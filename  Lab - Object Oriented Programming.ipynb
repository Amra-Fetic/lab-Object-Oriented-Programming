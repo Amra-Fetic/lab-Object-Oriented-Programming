{
 "cells": [
  {
   "cell_type": "code",
   "execution_count": 2,
   "id": "ed9c3c3d",
   "metadata": {},
   "outputs": [
    {
     "name": "stdout",
     "output_type": "stream",
     "text": [
      "TV is now ON\n",
      "Volume set to 75%\n",
      "Changed to channel 3\n",
      "Input source set to HDMI2\n",
      "TV is now OFF\n"
     ]
    }
   ],
   "source": [
    "class TV:\n",
    "    def __init__(self, size):\n",
    "        # Attributes\n",
    "        self.on = False #Bolean\n",
    "        self.volume = 50.0  #(Float in (0,100))\n",
    "        self.active_channel = 1 #integer(in range (1,10))\n",
    "        self.input_source = \"Anthena\" #(strings (\"Anthena\", \"HDMI1\", \"HDMI2\", \"HDMI3\"))\n",
    "        self.size = size\n",
    "        # Methods\n",
    "    def switch_on(self):\n",
    "        self.on = True\n",
    "        print(\"TV is now ON\")\n",
    "\n",
    "    def switch_off(self):\n",
    "        self.on = False\n",
    "        print(\"TV is now OFF\")\n",
    "\n",
    "    def set_volume(self, volume):\n",
    "        if 0 <= volume <= 100:\n",
    "            self.volume = float(volume)\n",
    "            print(f\"Volume set to {volume}%\")\n",
    "        else:\n",
    "            print(\"Invalid volume value. Volume should be in the range [0, 100]\")\n",
    "\n",
    "    def change_channel(self, channel):\n",
    "        if 1 <= channel <= 10:\n",
    "            self.active_channel = channel\n",
    "            print(f\"Changed to channel {channel}\")\n",
    "        else:\n",
    "            print(\"Invalid channel. Channel should be in the range [1, 10]\")\n",
    "\n",
    "    def set_input(self, value):\n",
    "        valid_inputs = [\"Anthena\", \"HDMI1\", \"HDMI2\", \"HDMI3\"]\n",
    "        if value in valid_inputs:\n",
    "            self.input_source = value\n",
    "            print(f\"Input source set to {value}\")\n",
    "        else:\n",
    "            print(\"Invalid input source. Choose from Anthena, HDMI1, HDMI2, HDMI3\")\n",
    "\n",
    "\n",
    "# testing function:\n",
    "my_tv = TV(size=55)\n",
    "my_tv.switch_on()\n",
    "my_tv.set_volume(75)\n",
    "my_tv.change_channel(3)\n",
    "my_tv.set_input(\"HDMI2\")\n",
    "my_tv.switch_off()\n"
   ]
  },
  {
   "cell_type": "code",
   "execution_count": null,
   "id": "5f76c8b5",
   "metadata": {},
   "outputs": [],
   "source": []
  }
 ],
 "metadata": {
  "kernelspec": {
   "display_name": "Python 3 (ipykernel)",
   "language": "python",
   "name": "python3"
  },
  "language_info": {
   "codemirror_mode": {
    "name": "ipython",
    "version": 3
   },
   "file_extension": ".py",
   "mimetype": "text/x-python",
   "name": "python",
   "nbconvert_exporter": "python",
   "pygments_lexer": "ipython3",
   "version": "3.11.4"
  }
 },
 "nbformat": 4,
 "nbformat_minor": 5
}
